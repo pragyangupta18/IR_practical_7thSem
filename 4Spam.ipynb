{
  "nbformat": 4,
  "nbformat_minor": 0,
  "metadata": {
    "colab": {
      "provenance": []
    },
    "kernelspec": {
      "name": "python3",
      "display_name": "Python 3"
    },
    "language_info": {
      "name": "python"
    }
  },
  "cells": [
    {
      "cell_type": "code",
      "source": [
        "import numpy as np\n",
        "import pandas as pd\n",
        "from sklearn.feature_extraction.text import CountVectorizer, TfidfTransformer\n",
        "from sklearn.naive_bayes import MultinomialNB\n",
        "from sklearn.model_selection import train_test_split\n",
        "from sklearn.metrics import classification_report, confusion_matrix, accuracy_score\n",
        "\n",
        "# Load dataset\n",
        "data = pd.read_csv('/content/Spam.csv')\n",
        "data = data.dropna()\n",
        "print(data.head())\n",
        "\n",
        "# Prepare feature and target variables\n",
        "x = data['Body']\n",
        "y = data['Label']\n",
        "\n",
        "# Split dataset into training and testing sets\n",
        "X_train, X_test, y_train, y_test = train_test_split(x, y, test_size=0.2, random_state=42)\n",
        "\n",
        "# Feature extraction and transformation\n",
        "vectorizer = CountVectorizer()\n",
        "tfidf_transformer = TfidfTransformer()\n",
        "X_train_counts = vectorizer.fit_transform(X_train)\n",
        "X_train_tfidf = tfidf_transformer.fit_transform(X_train_counts)\n",
        "\n",
        "# Train the classifier\n",
        "clf = MultinomialNB()\n",
        "clf.fit(X_train_tfidf, y_train)\n",
        "\n",
        "# Transform the test data and make predictions\n",
        "X_test_counts = vectorizer.transform(X_test)\n",
        "X_test_tfidf = tfidf_transformer.transform(X_test_counts)\n",
        "y_pred = clf.predict(X_test_tfidf)\n",
        "\n",
        "# Display results\n",
        "print(\"Classification Report:\")\n",
        "print(classification_report(y_test, y_pred))\n",
        "print(\"\\nConfusion Matrix:\")\n",
        "print(confusion_matrix(y_test, y_pred))\n",
        "print(\"\\nAccuracy Score:\", accuracy_score(y_test, y_pred))\n",
        "\n",
        "# Test the model with a new email\n",
        "new_email = [\"Congratulations! You've won a million dollars!\"]\n",
        "new_email_counts = vectorizer.transform(new_email)\n",
        "new_email_tfidf = tfidf_transformer.transform(new_email_counts)\n",
        "prediction = clf.predict(new_email_tfidf)\n",
        "\n",
        "if prediction[0] == 1:\n",
        "    print(\"\\nThe email is classified as spam.\")\n",
        "else:\n",
        "    print(\"\\nThe email is classified as ham.\")\n"
      ],
      "metadata": {
        "colab": {
          "base_uri": "https://localhost:8080/"
        },
        "id": "3VEJ8FYrOoBK",
        "outputId": "ce9e2234-0520-4375-99ed-4cbee1f649ec"
      },
      "execution_count": 77,
      "outputs": [
        {
          "output_type": "stream",
          "name": "stdout",
          "text": [
            "   Unnamed: 0                                               Body  Label\n",
            "0           0  \\nSave up to 70% on Life Insurance.\\nWhy Spend...      1\n",
            "1           1  1) Fight The Risk of Cancer!\\nhttp://www.adcli...      1\n",
            "2           2  1) Fight The Risk of Cancer!\\nhttp://www.adcli...      1\n",
            "3           3  ##############################################...      1\n",
            "4           4  I thought you might like these:\\n1) Slim Down ...      1\n",
            "Classification Report:\n",
            "              precision    recall  f1-score   support\n",
            "\n",
            "           0       0.81      1.00      0.89       807\n",
            "           1       1.00      0.51      0.68       402\n",
            "\n",
            "    accuracy                           0.84      1209\n",
            "   macro avg       0.90      0.76      0.79      1209\n",
            "weighted avg       0.87      0.84      0.82      1209\n",
            "\n",
            "\n",
            "Confusion Matrix:\n",
            "[[807   0]\n",
            " [195 207]]\n",
            "\n",
            "Accuracy Score: 0.8387096774193549\n",
            "\n",
            "The email is classified as spam.\n"
          ]
        }
      ]
    }
  ]
}
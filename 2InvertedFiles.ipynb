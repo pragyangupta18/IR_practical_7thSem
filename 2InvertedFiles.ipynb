{
  "nbformat": 4,
  "nbformat_minor": 0,
  "metadata": {
    "colab": {
      "provenance": []
    },
    "kernelspec": {
      "name": "python3",
      "display_name": "Python 3"
    },
    "language_info": {
      "name": "python"
    }
  },
  "cells": [
    {
      "cell_type": "code",
      "source": [
        "import re\n",
        "from collections import defaultdict\n",
        "\n",
        "# Sample documents\n",
        "documents = {\n",
        "    1: \"This is the first document. It contains some text.\",\n",
        "    2: \"The second document is longer. It also contains some text.\",\n",
        "    3: \"This is the third document. It is different from the first two.\",\n",
        "}\n",
        "\n",
        "# Function to preprocess a document\n",
        "def preprocess_document(doc):\n",
        "    # Convert to lowercase and tokenize\n",
        "    tokens = re.findall(r'\\w+', doc.lower())\n",
        "    # Remove stop words\n",
        "    stop_words = set([\"is\", \"the\", \"it\", \"and\", \"some\"])\n",
        "    tokens = [token for token in tokens if token not in stop_words]\n",
        "    return tokens\n",
        "\n",
        "# Build the inverted index\n",
        "inverted_index = defaultdict(list)\n",
        "for doc_id, doc_text in documents.items():\n",
        "    tokens = preprocess_document(doc_text)\n",
        "    for token in tokens:\n",
        "        inverted_index[token].append(doc_id)\n",
        "\n",
        "# Function to retrieve documents based on query\n",
        "def retrieve_documents(query):\n",
        "    query_tokens = preprocess_document(query)\n",
        "    result = set()\n",
        "    for token in query_tokens:\n",
        "        if token in inverted_index:\n",
        "            result.update(inverted_index[token])\n",
        "    return list(result)\n",
        "\n",
        "# Query example\n",
        "query = \"document contains text\"\n",
        "matching_documents = retrieve_documents(query)\n",
        "\n",
        "# Output results\n",
        "if matching_documents:\n",
        "    print(f\"Matching documents for query '{query}':\")\n",
        "    for doc_id in matching_documents:\n",
        "        print(f\"Document {doc_id}: {documents[doc_id]}\")\n",
        "else:\n",
        "    print(\"No matching documents found.\")\n"
      ],
      "metadata": {
        "colab": {
          "base_uri": "https://localhost:8080/"
        },
        "id": "Sffx7A0Y7WsZ",
        "outputId": "d5637b81-a481-44e8-ed0c-dbd0b002cf78"
      },
      "execution_count": 18,
      "outputs": [
        {
          "output_type": "stream",
          "name": "stdout",
          "text": [
            "Matching documents for query 'document contains text':\n",
            "Document 1: This is the first document. It contains some text.\n",
            "Document 2: The second document is longer. It also contains some text.\n",
            "Document 3: This is the third document. It is different from the first two.\n"
          ]
        }
      ]
    }
  ]
}